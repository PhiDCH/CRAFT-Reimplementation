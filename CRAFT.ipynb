{
  "nbformat": 4,
  "nbformat_minor": 0,
  "metadata": {
    "colab": {
      "name": "CRAFT.ipynb",
      "provenance": [],
      "collapsed_sections": [],
      "authorship_tag": "ABX9TyO7WfqM2nttXSgsRj1958lk",
      "include_colab_link": true
    },
    "kernelspec": {
      "name": "python3",
      "display_name": "Python 3"
    },
    "accelerator": "GPU"
  },
  "cells": [
    {
      "cell_type": "markdown",
      "metadata": {
        "id": "view-in-github",
        "colab_type": "text"
      },
      "source": [
        "<a href=\"https://colab.research.google.com/github/PhiDCH/CRAFT-Reimplementation/blob/master/CRAFT.ipynb\" target=\"_parent\"><img src=\"https://colab.research.google.com/assets/colab-badge.svg\" alt=\"Open In Colab\"/></a>"
      ]
    },
    {
      "cell_type": "code",
      "metadata": {
        "id": "K2mSh98RJneA"
      },
      "source": [
        "!rm -rf /content/craft-pytorch\r\n",
        "!git clone https://github.com/PhiDCH/CRAFT-pytorch /content/craft-pytorch"
      ],
      "execution_count": null,
      "outputs": []
    },
    {
      "cell_type": "markdown",
      "metadata": {
        "id": "vGhqeA-2sjqi"
      },
      "source": [
        "# Get backbones VGG16 and pretrained model"
      ]
    },
    {
      "cell_type": "code",
      "metadata": {
        "id": "KMzavYMlT85b"
      },
      "source": [
        "!rm -rf /content/craft-pytorch/pretrain/\r\n",
        "!mkdir /content/craft-pytorch/pretrain/"
      ],
      "execution_count": 6,
      "outputs": []
    },
    {
      "cell_type": "code",
      "metadata": {
        "id": "PEqvBr5wVezU"
      },
      "source": [
        "!gdown --id 1ZtvGpFQrbmEisB_GhmZb8UQOtvqY_-tW -O /content/craft-pytorch/pretrain/vgg16_bn.pth\r\n",
        "!gdown --id 1i2R7UIUqmkUtF0jv_3MXTqmQ_9wuAnLf -O /content/craft-pytorch/pretrain/clovaAI_ic15.pth\r\n",
        "!gdown --id 1k17GuBG_omT91tJoIMSlLrorYbLXkq4z -O /content/craft-pytorch/pretrain/backtime92_ic15.pth"
      ],
      "execution_count": null,
      "outputs": []
    },
    {
      "cell_type": "markdown",
      "metadata": {
        "id": "50n7teUMsB65"
      },
      "source": [
        "# Test for some pictures\r\n"
      ]
    },
    {
      "cell_type": "code",
      "metadata": {
        "colab": {
          "base_uri": "https://localhost:8080/"
        },
        "id": "G2SkU-7fY08J",
        "outputId": "a116a745-dc81-4f9e-ff59-636144d16968"
      },
      "source": [
        "cd /content/craft-pytorch"
      ],
      "execution_count": 40,
      "outputs": [
        {
          "output_type": "stream",
          "text": [
            "/content/craft-pytorch\n"
          ],
          "name": "stdout"
        }
      ]
    },
    {
      "cell_type": "code",
      "metadata": {
        "id": "-1acYwN0Lqsn"
      },
      "source": [
        "import torch\r\n",
        "from craft import CRAFT\r\n",
        "from collections import OrderedDict\r\n",
        "\r\n",
        "def copyStateDict(state_dict):\r\n",
        "    if list(state_dict.keys())[0].startswith(\"module\"):\r\n",
        "        start_idx = 1\r\n",
        "    else:\r\n",
        "        start_idx = 0\r\n",
        "    new_state_dict = OrderedDict()\r\n",
        "    for k, v in state_dict.items():\r\n",
        "        name = \".\".join(k.split(\".\")[start_idx:])\r\n",
        "        new_state_dict[name] = v\r\n",
        "    return new_state_dict\r\n",
        "\r\n",
        "net = CRAFT().cuda()"
      ],
      "execution_count": 42,
      "outputs": []
    },
    {
      "cell_type": "code",
      "metadata": {
        "id": "hDU61sIYzwD6",
        "colab": {
          "base_uri": "https://localhost:8080/"
        },
        "outputId": "e69148f0-3104-46d4-aa17-80b6d6c31d21"
      },
      "source": [
        "import time \r\n",
        "\r\n",
        "t = time.time()\r\n",
        "net.load_state_dict(copyStateDict(torch.load(\"./pretrain/backtime92_ic15.pth\")))\r\n",
        "net.cuda()\r\n",
        "net(torch.randn(1,3,768,768).cuda())\r\n",
        "print(time.time()-t)\r\n",
        "\r\n",
        "t = time.time()\r\n",
        "net.load_state_dict(copyStateDict(torch.load(\"./pretrain/clovaAI_ic15.pth\")))\r\n",
        "net.cuda()\r\n",
        "net(torch.randn(1,3,768,768).cuda())\r\n",
        "print(time.time()-t)"
      ],
      "execution_count": 44,
      "outputs": [
        {
          "output_type": "stream",
          "text": [
            "0.2729640007019043\n",
            "0.19815707206726074\n"
          ],
          "name": "stdout"
        }
      ]
    },
    {
      "cell_type": "code",
      "metadata": {
        "id": "kCjt6JvH2yM6"
      },
      "source": [
        "!python test.py --help"
      ],
      "execution_count": null,
      "outputs": []
    },
    {
      "cell_type": "code",
      "metadata": {
        "id": "AkyoochU2tmn"
      },
      "source": [
        "!python test.py --trained_model=\"./pretrain/clovaAI_ic15.pth\" --test_folder=\"./test_img/\" --show_time --poly"
      ],
      "execution_count": null,
      "outputs": []
    },
    {
      "cell_type": "markdown",
      "metadata": {
        "id": "bts1YSaVPWjb"
      },
      "source": [
        "# prepare data"
      ]
    },
    {
      "cell_type": "code",
      "metadata": {
        "colab": {
          "base_uri": "https://localhost:8080/"
        },
        "id": "940FrFXtKrDG",
        "outputId": "8de54b06-2ca1-4962-8772-174e6325f8b2"
      },
      "source": [
        "from google.colab import drive\r\n",
        "drive.mount('/content/drive')"
      ],
      "execution_count": 2,
      "outputs": [
        {
          "output_type": "stream",
          "text": [
            "Drive already mounted at /content/drive; to attempt to forcibly remount, call drive.mount(\"/content/drive\", force_remount=True).\n"
          ],
          "name": "stdout"
        }
      ]
    },
    {
      "cell_type": "code",
      "metadata": {
        "id": "xNcd8cn8LWiq"
      },
      "source": [
        "!mkdir /content/icdar2015\r\n",
        "!mkdir /content/icdar2015/train_img\r\n",
        "!mkdir /content/icdar2015/train_gt\r\n",
        "!mkdir /content/icdar2015/test_img\r\n",
        "!mkdir /content/icdar2015/test_gt\r\n",
        "!unzip /content/drive/MyDrive/MyComputer/icdar2015/ch4_training_images.zip -d /content/icdar2015/train_img\r\n",
        "!unzip /content/drive/MyDrive/MyComputer/icdar2015/ch4_training_localization_transcription_gt.zip -d /content/icdar2015/train_gt\r\n",
        "!unzip /content/drive/MyDrive/MyComputer/icdar2015/ch4_test_images.zip -d /content/icdar2015/test_img\r\n",
        "!unzip /content/drive/MyDrive/MyComputer/icdar2015/Challenge4_Test_Task1_GT.zip -d /content/icdar2015/test_gt"
      ],
      "execution_count": null,
      "outputs": []
    },
    {
      "cell_type": "markdown",
      "metadata": {
        "id": "M12lhoI0uTAf"
      },
      "source": [
        "# evaluation ICDAR_2015"
      ]
    },
    {
      "cell_type": "code",
      "metadata": {
        "colab": {
          "base_uri": "https://localhost:8080/"
        },
        "id": "HHlE2yfxuVuK",
        "outputId": "ffddf18c-7389-439c-9639-aa6bf17ebbb3"
      },
      "source": [
        "!rm -rf /content/craft-pytorch\r\n",
        "!git clone https://github.com/PhiDCH/CRAFT-Reimplementation /content/craft-pytorch"
      ],
      "execution_count": 5,
      "outputs": [
        {
          "output_type": "stream",
          "text": [
            "Cloning into '/content/craft-pytorch'...\n",
            "remote: Enumerating objects: 10, done.\u001b[K\n",
            "remote: Counting objects: 100% (10/10), done.\u001b[K\n",
            "remote: Compressing objects: 100% (9/9), done.\u001b[K\n",
            "remote: Total 227 (delta 3), reused 0 (delta 0), pack-reused 217\u001b[K\n",
            "Receiving objects: 100% (227/227), 136.43 MiB | 32.37 MiB/s, done.\n",
            "Resolving deltas: 100% (105/105), done.\n"
          ],
          "name": "stdout"
        }
      ]
    },
    {
      "cell_type": "code",
      "metadata": {
        "colab": {
          "base_uri": "https://localhost:8080/"
        },
        "id": "0JkEfXMo1rsW",
        "outputId": "d844e76b-e904-448c-cd65-670dd77f8eb0"
      },
      "source": [
        "cd /content/craft-pytorch/"
      ],
      "execution_count": 1,
      "outputs": [
        {
          "output_type": "stream",
          "text": [
            "/content/craft-pytorch\n"
          ],
          "name": "stdout"
        }
      ]
    },
    {
      "cell_type": "code",
      "metadata": {
        "id": "coQnWg3kcnzO"
      },
      "source": [
        "!mkdir /content/icdar2015/result\r\n",
        "!mkdir /content/icdar2015/result/gt\r\n",
        "!mkdir /content/icdar2015/result/mask"
      ],
      "execution_count": 48,
      "outputs": []
    },
    {
      "cell_type": "code",
      "metadata": {
        "id": "4dGPFiv_YgbX"
      },
      "source": [
        "import torch\r\n",
        "from craft import CRAFT\r\n",
        "from collections import OrderedDict\r\n",
        "\r\n",
        "def copyStateDict(state_dict):\r\n",
        "    if list(state_dict.keys())[0].startswith(\"module\"):\r\n",
        "        start_idx = 1\r\n",
        "    else:\r\n",
        "        start_idx = 0\r\n",
        "    new_state_dict = OrderedDict()\r\n",
        "    for k, v in state_dict.items():\r\n",
        "        name = \".\".join(k.split(\".\")[start_idx:])\r\n",
        "        new_state_dict[name] = v\r\n",
        "    return new_state_dict\r\n",
        "\r\n",
        "net = CRAFT().cuda()\r\n",
        "net.load_state_dict(copyStateDict(torch.load(\"./pretrain/clovaAI_ic15.pth\")))\r\n",
        "net.cuda()"
      ],
      "execution_count": null,
      "outputs": []
    },
    {
      "cell_type": "code",
      "metadata": {
        "id": "sBEaBiG9eX6_"
      },
      "source": [
        "from evaluation import eval2015 "
      ],
      "execution_count": 3,
      "outputs": []
    },
    {
      "cell_type": "code",
      "metadata": {
        "colab": {
          "base_uri": "https://localhost:8080/"
        },
        "id": "_Ht_CO5QnaHn",
        "outputId": "7113383a-2591-44e9-e422-14598b7af230"
      },
      "source": [
        "pip install Polygon3"
      ],
      "execution_count": 8,
      "outputs": [
        {
          "output_type": "stream",
          "text": [
            "Collecting Polygon3\n",
            "\u001b[?25l  Downloading https://files.pythonhosted.org/packages/73/a0/d07a4f3e80ed7020a33f3111db217f54ac44a485ff45da3c21ce49f65041/Polygon3-3.0.8.tar.gz (71kB)\n",
            "\r\u001b[K     |████▋                           | 10kB 21.7MB/s eta 0:00:01\r\u001b[K     |█████████▏                      | 20kB 23.2MB/s eta 0:00:01\r\u001b[K     |█████████████▊                  | 30kB 17.3MB/s eta 0:00:01\r\u001b[K     |██████████████████▍             | 40kB 15.2MB/s eta 0:00:01\r\u001b[K     |███████████████████████         | 51kB 10.0MB/s eta 0:00:01\r\u001b[K     |███████████████████████████▌    | 61kB 11.6MB/s eta 0:00:01\r\u001b[K     |████████████████████████████████| 71kB 5.1MB/s \n",
            "\u001b[?25hBuilding wheels for collected packages: Polygon3\n",
            "  Building wheel for Polygon3 (setup.py) ... \u001b[?25l\u001b[?25hdone\n",
            "  Created wheel for Polygon3: filename=Polygon3-3.0.8-cp37-cp37m-linux_x86_64.whl size=102403 sha256=e41114174a7fdebbfceefbd9f74a2afa5f598f2e002953a1b34851d15e192498\n",
            "  Stored in directory: /root/.cache/pip/wheels/95/32/f1/5525b233996d9d99cbce2f0a8da60d137ddddc555d3e8b0e2a\n",
            "Successfully built Polygon3\n",
            "Installing collected packages: Polygon3\n",
            "Successfully installed Polygon3-3.0.8\n"
          ],
          "name": "stdout"
        }
      ]
    },
    {
      "cell_type": "code",
      "metadata": {
        "colab": {
          "base_uri": "https://localhost:8080/"
        },
        "id": "IsSWDwobgKoE",
        "outputId": "b22fcd7e-5e0d-4ace-cf7d-1eb6bdaafee5"
      },
      "source": [
        "eval2015(net, '/content/icdar2015/test_img', '/content/icdar2015/result')"
      ],
      "execution_count": 4,
      "outputs": [
        {
          "output_type": "stream",
          "text": [
            "Test image 1/500: /content/icdar2015/test_img/img_31.jpg\n",
            "Test image 2/500: /content/icdar2015/test_img/img_140.jpg\n"
          ],
          "name": "stdout"
        },
        {
          "output_type": "stream",
          "text": [
            "/content/craft-pytorch/craft_utils.py:242: VisibleDeprecationWarning: Creating an ndarray from ragged nested sequences (which is a list-or-tuple of lists-or-tuples-or ndarrays with different lengths or shapes) is deprecated. If you meant to do this, you must specify 'dtype=object' when creating the ndarray\n",
            "  polys = np.array(polys)\n"
          ],
          "name": "stderr"
        },
        {
          "output_type": "stream",
          "text": [
            "Test image 3/500: /content/icdar2015/test_img/img_493.jpg\n",
            "Test image 4/500: /content/icdar2015/test_img/img_186.jpg\n",
            "Test image 5/500: /content/icdar2015/test_img/img_341.jpg\n",
            "Test image 6/500: /content/icdar2015/test_img/img_425.jpg\n",
            "Test image 7/500: /content/icdar2015/test_img/img_1.jpg\n",
            "Test image 8/500: /content/icdar2015/test_img/img_129.jpg\n",
            "Test image 9/500: /content/icdar2015/test_img/img_84.jpg\n",
            "Test image 10/500: /content/icdar2015/test_img/img_475.jpg\n",
            "Test image 11/500: /content/icdar2015/test_img/img_285.jpg\n",
            "Test image 12/500: /content/icdar2015/test_img/img_402.jpg\n",
            "Test image 13/500: /content/icdar2015/test_img/img_160.jpg\n",
            "Test image 14/500: /content/icdar2015/test_img/img_159.jpg\n",
            "Test image 15/500: /content/icdar2015/test_img/img_156.jpg\n",
            "Test image 16/500: /content/icdar2015/test_img/img_421.jpg\n",
            "Test image 17/500: /content/icdar2015/test_img/img_410.jpg\n",
            "Test image 18/500: /content/icdar2015/test_img/img_403.jpg\n",
            "Test image 19/500: /content/icdar2015/test_img/img_38.jpg\n",
            "Test image 20/500: /content/icdar2015/test_img/img_385.jpg\n",
            "Test image 21/500: /content/icdar2015/test_img/img_439.jpg\n",
            "Test image 22/500: /content/icdar2015/test_img/img_11.jpg\n",
            "Test image 23/500: /content/icdar2015/test_img/img_411.jpg\n",
            "Test image 24/500: /content/icdar2015/test_img/img_446.jpg\n",
            "Test image 25/500: /content/icdar2015/test_img/img_427.jpg\n",
            "Test image 26/500: /content/icdar2015/test_img/img_348.jpg\n",
            "Test image 27/500: /content/icdar2015/test_img/img_323.jpg\n",
            "Test image 28/500: /content/icdar2015/test_img/img_358.jpg\n",
            "Test image 29/500: /content/icdar2015/test_img/img_6.jpg\n",
            "Test image 30/500: /content/icdar2015/test_img/img_277.jpg\n",
            "Test image 31/500: /content/icdar2015/test_img/img_313.jpg\n",
            "Test image 32/500: /content/icdar2015/test_img/img_331.jpg\n",
            "Test image 33/500: /content/icdar2015/test_img/img_496.jpg\n",
            "Test image 34/500: /content/icdar2015/test_img/img_99.jpg\n",
            "Test image 35/500: /content/icdar2015/test_img/img_435.jpg\n",
            "Test image 36/500: /content/icdar2015/test_img/img_136.jpg\n",
            "Test image 37/500: /content/icdar2015/test_img/img_430.jpg\n",
            "Test image 38/500: /content/icdar2015/test_img/img_454.jpg\n",
            "Test image 39/500: /content/icdar2015/test_img/img_139.jpg\n",
            "Test image 40/500: /content/icdar2015/test_img/img_336.jpg\n",
            "Test image 41/500: /content/icdar2015/test_img/img_450.jpg\n",
            "Test image 42/500: /content/icdar2015/test_img/img_85.jpg\n",
            "Test image 43/500: /content/icdar2015/test_img/img_345.jpg\n",
            "Test image 44/500: /content/icdar2015/test_img/img_112.jpg\n",
            "Test image 45/500: /content/icdar2015/test_img/img_312.jpg\n",
            "Test image 46/500: /content/icdar2015/test_img/img_24.jpg\n",
            "Test image 47/500: /content/icdar2015/test_img/img_184.jpg\n",
            "Test image 48/500: /content/icdar2015/test_img/img_482.jpg\n",
            "Test image 49/500: /content/icdar2015/test_img/img_289.jpg\n",
            "Test image 50/500: /content/icdar2015/test_img/img_2.jpg\n",
            "Test image 51/500: /content/icdar2015/test_img/img_109.jpg\n",
            "Test image 52/500: /content/icdar2015/test_img/img_372.jpg\n",
            "Test image 53/500: /content/icdar2015/test_img/img_26.jpg\n",
            "Test image 54/500: /content/icdar2015/test_img/img_234.jpg\n",
            "Test image 55/500: /content/icdar2015/test_img/img_54.jpg\n",
            "Test image 56/500: /content/icdar2015/test_img/img_174.jpg\n",
            "Test image 57/500: /content/icdar2015/test_img/img_25.jpg\n",
            "Test image 58/500: /content/icdar2015/test_img/img_146.jpg\n",
            "Test image 59/500: /content/icdar2015/test_img/img_378.jpg\n",
            "Test image 60/500: /content/icdar2015/test_img/img_453.jpg\n",
            "Test image 61/500: /content/icdar2015/test_img/img_182.jpg\n",
            "Test image 62/500: /content/icdar2015/test_img/img_142.jpg\n",
            "Test image 63/500: /content/icdar2015/test_img/img_69.jpg\n",
            "Test image 64/500: /content/icdar2015/test_img/img_176.jpg\n",
            "Test image 65/500: /content/icdar2015/test_img/img_65.jpg\n",
            "Test image 66/500: /content/icdar2015/test_img/img_267.jpg\n",
            "Test image 67/500: /content/icdar2015/test_img/img_82.jpg\n",
            "Test image 68/500: /content/icdar2015/test_img/img_326.jpg\n",
            "Test image 69/500: /content/icdar2015/test_img/img_177.jpg\n",
            "Test image 70/500: /content/icdar2015/test_img/img_306.jpg\n",
            "Test image 71/500: /content/icdar2015/test_img/img_386.jpg\n",
            "Test image 72/500: /content/icdar2015/test_img/img_467.jpg\n",
            "Test image 73/500: /content/icdar2015/test_img/img_143.jpg\n",
            "Test image 74/500: /content/icdar2015/test_img/img_478.jpg\n",
            "Test image 75/500: /content/icdar2015/test_img/img_158.jpg\n",
            "Test image 76/500: /content/icdar2015/test_img/img_211.jpg\n",
            "Test image 77/500: /content/icdar2015/test_img/img_281.jpg\n",
            "Test image 78/500: /content/icdar2015/test_img/img_305.jpg\n",
            "Test image 79/500: /content/icdar2015/test_img/img_95.jpg\n",
            "Test image 80/500: /content/icdar2015/test_img/img_72.jpg\n",
            "Test image 81/500: /content/icdar2015/test_img/img_301.jpg\n",
            "Test image 82/500: /content/icdar2015/test_img/img_87.jpg\n",
            "Test image 83/500: /content/icdar2015/test_img/img_117.jpg\n",
            "Test image 84/500: /content/icdar2015/test_img/img_41.jpg\n",
            "Test image 85/500: /content/icdar2015/test_img/img_5.jpg\n",
            "Test image 86/500: /content/icdar2015/test_img/img_350.jpg\n",
            "Test image 87/500: /content/icdar2015/test_img/img_40.jpg\n",
            "Test image 88/500: /content/icdar2015/test_img/img_353.jpg\n",
            "Test image 89/500: /content/icdar2015/test_img/img_382.jpg\n",
            "Test image 90/500: /content/icdar2015/test_img/img_241.jpg\n",
            "Test image 91/500: /content/icdar2015/test_img/img_366.jpg\n",
            "Test image 92/500: /content/icdar2015/test_img/img_33.jpg\n",
            "Test image 93/500: /content/icdar2015/test_img/img_135.jpg\n",
            "Test image 94/500: /content/icdar2015/test_img/img_303.jpg\n",
            "Test image 95/500: /content/icdar2015/test_img/img_58.jpg\n",
            "Test image 96/500: /content/icdar2015/test_img/img_194.jpg\n",
            "Test image 97/500: /content/icdar2015/test_img/img_151.jpg\n",
            "Test image 98/500: /content/icdar2015/test_img/img_499.jpg\n",
            "Test image 99/500: /content/icdar2015/test_img/img_126.jpg\n",
            "Test image 100/500: /content/icdar2015/test_img/img_48.jpg\n",
            "Test image 101/500: /content/icdar2015/test_img/img_333.jpg\n",
            "Test image 102/500: /content/icdar2015/test_img/img_452.jpg\n",
            "Test image 103/500: /content/icdar2015/test_img/img_21.jpg\n",
            "Test image 104/500: /content/icdar2015/test_img/img_168.jpg\n",
            "Test image 105/500: /content/icdar2015/test_img/img_380.jpg\n",
            "Test image 106/500: /content/icdar2015/test_img/img_149.jpg\n",
            "Test image 107/500: /content/icdar2015/test_img/img_442.jpg\n",
            "Test image 108/500: /content/icdar2015/test_img/img_294.jpg\n",
            "Test image 109/500: /content/icdar2015/test_img/img_395.jpg\n",
            "Test image 110/500: /content/icdar2015/test_img/img_389.jpg\n",
            "Test image 111/500: /content/icdar2015/test_img/img_400.jpg\n",
            "Test image 112/500: /content/icdar2015/test_img/img_383.jpg\n",
            "Test image 113/500: /content/icdar2015/test_img/img_196.jpg\n",
            "Test image 114/500: /content/icdar2015/test_img/img_432.jpg\n",
            "Test image 115/500: /content/icdar2015/test_img/img_487.jpg\n",
            "Test image 116/500: /content/icdar2015/test_img/img_100.jpg\n",
            "Test image 117/500: /content/icdar2015/test_img/img_154.jpg\n",
            "Test image 118/500: /content/icdar2015/test_img/img_472.jpg\n",
            "Test image 119/500: /content/icdar2015/test_img/img_39.jpg\n",
            "Test image 120/500: /content/icdar2015/test_img/img_81.jpg\n",
            "Test image 121/500: /content/icdar2015/test_img/img_406.jpg\n",
            "Test image 122/500: /content/icdar2015/test_img/img_428.jpg\n",
            "Test image 123/500: /content/icdar2015/test_img/img_200.jpg\n",
            "Test image 124/500: /content/icdar2015/test_img/img_133.jpg\n",
            "Test image 125/500: /content/icdar2015/test_img/img_300.jpg\n",
            "Test image 126/500: /content/icdar2015/test_img/img_455.jpg\n",
            "Test image 127/500: /content/icdar2015/test_img/img_384.jpg\n",
            "Test image 128/500: /content/icdar2015/test_img/img_30.jpg\n",
            "Test image 129/500: /content/icdar2015/test_img/img_288.jpg\n",
            "Test image 130/500: /content/icdar2015/test_img/img_399.jpg\n",
            "Test image 131/500: /content/icdar2015/test_img/img_116.jpg\n",
            "Test image 132/500: /content/icdar2015/test_img/img_202.jpg\n",
            "Test image 133/500: /content/icdar2015/test_img/img_317.jpg\n",
            "Test image 134/500: /content/icdar2015/test_img/img_438.jpg\n",
            "Test image 135/500: /content/icdar2015/test_img/img_444.jpg\n",
            "Test image 136/500: /content/icdar2015/test_img/img_296.jpg\n",
            "Test image 137/500: /content/icdar2015/test_img/img_329.jpg\n",
            "Test image 138/500: /content/icdar2015/test_img/img_73.jpg\n",
            "Test image 139/500: /content/icdar2015/test_img/img_163.jpg\n",
            "Test image 140/500: /content/icdar2015/test_img/img_299.jpg\n",
            "Test image 141/500: /content/icdar2015/test_img/img_128.jpg\n",
            "Test image 142/500: /content/icdar2015/test_img/img_15.jpg\n",
            "Test image 143/500: /content/icdar2015/test_img/img_415.jpg\n",
            "Test image 144/500: /content/icdar2015/test_img/img_37.jpg\n",
            "Test image 145/500: /content/icdar2015/test_img/img_282.jpg\n",
            "Test image 146/500: /content/icdar2015/test_img/img_191.jpg\n",
            "Test image 147/500: /content/icdar2015/test_img/img_338.jpg\n",
            "Test image 148/500: /content/icdar2015/test_img/img_44.jpg\n",
            "Test image 149/500: /content/icdar2015/test_img/img_83.jpg\n",
            "Test image 150/500: /content/icdar2015/test_img/img_14.jpg\n",
            "Test image 151/500: /content/icdar2015/test_img/img_124.jpg\n",
            "Test image 152/500: /content/icdar2015/test_img/img_391.jpg\n",
            "Test image 153/500: /content/icdar2015/test_img/img_237.jpg\n",
            "Test image 154/500: /content/icdar2015/test_img/img_106.jpg\n",
            "Test image 155/500: /content/icdar2015/test_img/img_497.jpg\n",
            "Test image 156/500: /content/icdar2015/test_img/img_250.jpg\n",
            "Test image 157/500: /content/icdar2015/test_img/img_183.jpg\n",
            "Test image 158/500: /content/icdar2015/test_img/img_367.jpg\n",
            "Test image 159/500: /content/icdar2015/test_img/img_63.jpg\n",
            "Test image 160/500: /content/icdar2015/test_img/img_286.jpg\n",
            "Test image 161/500: /content/icdar2015/test_img/img_369.jpg\n",
            "Test image 162/500: /content/icdar2015/test_img/img_393.jpg\n",
            "Test image 163/500: /content/icdar2015/test_img/img_3.jpg\n",
            "Test image 164/500: /content/icdar2015/test_img/img_426.jpg\n",
            "Test image 165/500: /content/icdar2015/test_img/img_247.jpg\n",
            "Test image 166/500: /content/icdar2015/test_img/img_201.jpg\n",
            "Test image 167/500: /content/icdar2015/test_img/img_132.jpg\n",
            "Test image 168/500: /content/icdar2015/test_img/img_337.jpg\n",
            "Test image 169/500: /content/icdar2015/test_img/img_264.jpg\n",
            "Test image 170/500: /content/icdar2015/test_img/img_309.jpg\n",
            "Test image 171/500: /content/icdar2015/test_img/img_448.jpg\n",
            "Test image 172/500: /content/icdar2015/test_img/img_86.jpg\n",
            "Test image 173/500: /content/icdar2015/test_img/img_75.jpg\n",
            "Test image 174/500: /content/icdar2015/test_img/img_404.jpg\n",
            "Test image 175/500: /content/icdar2015/test_img/img_290.jpg\n",
            "Test image 176/500: /content/icdar2015/test_img/img_465.jpg\n",
            "Test image 177/500: /content/icdar2015/test_img/img_307.jpg\n",
            "Test image 178/500: /content/icdar2015/test_img/img_118.jpg\n",
            "Test image 179/500: /content/icdar2015/test_img/img_265.jpg\n",
            "Test image 180/500: /content/icdar2015/test_img/img_287.jpg\n",
            "Test image 181/500: /content/icdar2015/test_img/img_364.jpg\n",
            "Test image 182/500: /content/icdar2015/test_img/img_165.jpg\n",
            "Test image 183/500: /content/icdar2015/test_img/img_179.jpg\n",
            "Test image 184/500: /content/icdar2015/test_img/img_137.jpg\n",
            "Test image 185/500: /content/icdar2015/test_img/img_71.jpg\n",
            "Test image 186/500: /content/icdar2015/test_img/img_232.jpg\n",
            "Test image 187/500: /content/icdar2015/test_img/img_4.jpg\n",
            "Test image 188/500: /content/icdar2015/test_img/img_152.jpg\n",
            "Test image 189/500: /content/icdar2015/test_img/img_334.jpg\n",
            "Test image 190/500: /content/icdar2015/test_img/img_220.jpg\n",
            "Test image 191/500: /content/icdar2015/test_img/img_127.jpg\n",
            "Test image 192/500: /content/icdar2015/test_img/img_210.jpg\n",
            "Test image 193/500: /content/icdar2015/test_img/img_206.jpg\n",
            "Test image 194/500: /content/icdar2015/test_img/img_422.jpg\n",
            "Test image 195/500: /content/icdar2015/test_img/img_424.jpg\n",
            "Test image 196/500: /content/icdar2015/test_img/img_50.jpg\n",
            "Test image 197/500: /content/icdar2015/test_img/img_242.jpg\n",
            "Test image 198/500: /content/icdar2015/test_img/img_18.jpg\n",
            "Test image 199/500: /content/icdar2015/test_img/img_433.jpg\n",
            "Test image 200/500: /content/icdar2015/test_img/img_147.jpg\n",
            "Test image 201/500: /content/icdar2015/test_img/img_195.jpg\n",
            "Test image 202/500: /content/icdar2015/test_img/img_409.jpg\n",
            "Test image 203/500: /content/icdar2015/test_img/img_463.jpg\n",
            "Test image 204/500: /content/icdar2015/test_img/img_416.jpg\n",
            "Test image 205/500: /content/icdar2015/test_img/img_490.jpg\n",
            "Test image 206/500: /content/icdar2015/test_img/img_365.jpg\n",
            "Test image 207/500: /content/icdar2015/test_img/img_263.jpg\n",
            "Test image 208/500: /content/icdar2015/test_img/img_93.jpg\n",
            "Test image 209/500: /content/icdar2015/test_img/img_61.jpg\n",
            "Test image 210/500: /content/icdar2015/test_img/img_8.jpg\n",
            "Test image 211/500: /content/icdar2015/test_img/img_375.jpg\n",
            "Test image 212/500: /content/icdar2015/test_img/img_356.jpg\n",
            "Test image 213/500: /content/icdar2015/test_img/img_376.jpg\n",
            "Test image 214/500: /content/icdar2015/test_img/img_90.jpg\n",
            "Test image 215/500: /content/icdar2015/test_img/img_190.jpg\n",
            "Test image 216/500: /content/icdar2015/test_img/img_273.jpg\n",
            "Test image 217/500: /content/icdar2015/test_img/img_178.jpg\n",
            "Test image 218/500: /content/icdar2015/test_img/img_351.jpg\n",
            "Test image 219/500: /content/icdar2015/test_img/img_268.jpg\n",
            "Test image 220/500: /content/icdar2015/test_img/img_276.jpg\n",
            "Test image 221/500: /content/icdar2015/test_img/img_324.jpg\n",
            "Test image 222/500: /content/icdar2015/test_img/img_346.jpg\n",
            "Test image 223/500: /content/icdar2015/test_img/img_102.jpg\n",
            "Test image 224/500: /content/icdar2015/test_img/img_253.jpg\n",
            "Test image 225/500: /content/icdar2015/test_img/img_340.jpg\n",
            "Test image 226/500: /content/icdar2015/test_img/img_363.jpg\n",
            "Test image 227/500: /content/icdar2015/test_img/img_245.jpg\n",
            "Test image 228/500: /content/icdar2015/test_img/img_243.jpg\n",
            "Test image 229/500: /content/icdar2015/test_img/img_347.jpg\n",
            "Test image 230/500: /content/icdar2015/test_img/img_332.jpg\n",
            "Test image 231/500: /content/icdar2015/test_img/img_434.jpg\n",
            "Test image 232/500: /content/icdar2015/test_img/img_283.jpg\n",
            "Test image 233/500: /content/icdar2015/test_img/img_310.jpg\n",
            "Test image 234/500: /content/icdar2015/test_img/img_413.jpg\n",
            "Test image 235/500: /content/icdar2015/test_img/img_20.jpg\n",
            "Test image 236/500: /content/icdar2015/test_img/img_23.jpg\n",
            "Test image 237/500: /content/icdar2015/test_img/img_441.jpg\n",
            "Test image 238/500: /content/icdar2015/test_img/img_28.jpg\n",
            "Test image 239/500: /content/icdar2015/test_img/img_199.jpg\n",
            "Test image 240/500: /content/icdar2015/test_img/img_70.jpg\n",
            "Test image 241/500: /content/icdar2015/test_img/img_36.jpg\n",
            "Test image 242/500: /content/icdar2015/test_img/img_284.jpg\n",
            "Test image 243/500: /content/icdar2015/test_img/img_325.jpg\n",
            "Test image 244/500: /content/icdar2015/test_img/img_498.jpg\n",
            "Test image 245/500: /content/icdar2015/test_img/img_150.jpg\n",
            "Test image 246/500: /content/icdar2015/test_img/img_22.jpg\n",
            "Test image 247/500: /content/icdar2015/test_img/img_228.jpg\n",
            "Test image 248/500: /content/icdar2015/test_img/img_68.jpg\n",
            "Test image 249/500: /content/icdar2015/test_img/img_436.jpg\n",
            "Test image 250/500: /content/icdar2015/test_img/img_115.jpg\n",
            "Test image 251/500: /content/icdar2015/test_img/img_189.jpg\n",
            "Test image 252/500: /content/icdar2015/test_img/img_227.jpg\n",
            "Test image 253/500: /content/icdar2015/test_img/img_270.jpg\n",
            "Test image 254/500: /content/icdar2015/test_img/img_437.jpg\n",
            "Test image 255/500: /content/icdar2015/test_img/img_155.jpg\n",
            "Test image 256/500: /content/icdar2015/test_img/img_161.jpg\n",
            "Test image 257/500: /content/icdar2015/test_img/img_477.jpg\n",
            "Test image 258/500: /content/icdar2015/test_img/img_239.jpg\n",
            "Test image 259/500: /content/icdar2015/test_img/img_473.jpg\n",
            "Test image 260/500: /content/icdar2015/test_img/img_342.jpg\n",
            "Test image 261/500: /content/icdar2015/test_img/img_476.jpg\n",
            "Test image 262/500: /content/icdar2015/test_img/img_412.jpg\n",
            "Test image 263/500: /content/icdar2015/test_img/img_429.jpg\n",
            "Test image 264/500: /content/icdar2015/test_img/img_462.jpg\n",
            "Test image 265/500: /content/icdar2015/test_img/img_131.jpg\n",
            "Test image 266/500: /content/icdar2015/test_img/img_316.jpg\n",
            "Test image 267/500: /content/icdar2015/test_img/img_167.jpg\n",
            "Test image 268/500: /content/icdar2015/test_img/img_175.jpg\n",
            "Test image 269/500: /content/icdar2015/test_img/img_233.jpg\n",
            "Test image 270/500: /content/icdar2015/test_img/img_27.jpg\n",
            "Test image 271/500: /content/icdar2015/test_img/img_451.jpg\n",
            "Test image 272/500: /content/icdar2015/test_img/img_78.jpg\n",
            "Test image 273/500: /content/icdar2015/test_img/img_56.jpg\n",
            "Test image 274/500: /content/icdar2015/test_img/img_181.jpg\n",
            "Test image 275/500: /content/icdar2015/test_img/img_251.jpg\n",
            "Test image 276/500: /content/icdar2015/test_img/img_138.jpg\n",
            "Test image 277/500: /content/icdar2015/test_img/img_122.jpg\n",
            "Test image 278/500: /content/icdar2015/test_img/img_113.jpg\n",
            "Test image 279/500: /content/icdar2015/test_img/img_417.jpg\n",
            "Test image 280/500: /content/icdar2015/test_img/img_53.jpg\n",
            "Test image 281/500: /content/icdar2015/test_img/img_261.jpg\n",
            "Test image 282/500: /content/icdar2015/test_img/img_169.jpg\n",
            "Test image 283/500: /content/icdar2015/test_img/img_88.jpg\n",
            "Test image 284/500: /content/icdar2015/test_img/img_162.jpg\n",
            "Test image 285/500: /content/icdar2015/test_img/img_229.jpg\n",
            "Test image 286/500: /content/icdar2015/test_img/img_500.jpg\n",
            "Test image 287/500: /content/icdar2015/test_img/img_197.jpg\n",
            "Test image 288/500: /content/icdar2015/test_img/img_249.jpg\n",
            "Test image 289/500: /content/icdar2015/test_img/img_320.jpg\n",
            "Test image 290/500: /content/icdar2015/test_img/img_170.jpg\n",
            "Test image 291/500: /content/icdar2015/test_img/img_49.jpg\n",
            "Test image 292/500: /content/icdar2015/test_img/img_212.jpg\n",
            "Test image 293/500: /content/icdar2015/test_img/img_17.jpg\n",
            "Test image 294/500: /content/icdar2015/test_img/img_222.jpg\n",
            "Test image 295/500: /content/icdar2015/test_img/img_67.jpg\n",
            "Test image 296/500: /content/icdar2015/test_img/img_379.jpg\n",
            "Test image 297/500: /content/icdar2015/test_img/img_495.jpg\n",
            "Test image 298/500: /content/icdar2015/test_img/img_79.jpg\n",
            "Test image 299/500: /content/icdar2015/test_img/img_486.jpg\n",
            "Test image 300/500: /content/icdar2015/test_img/img_260.jpg\n",
            "Test image 301/500: /content/icdar2015/test_img/img_489.jpg\n",
            "Test image 302/500: /content/icdar2015/test_img/img_328.jpg\n",
            "Test image 303/500: /content/icdar2015/test_img/img_19.jpg\n",
            "Test image 304/500: /content/icdar2015/test_img/img_440.jpg\n",
            "Test image 305/500: /content/icdar2015/test_img/img_420.jpg\n",
            "Test image 306/500: /content/icdar2015/test_img/img_32.jpg\n",
            "Test image 307/500: /content/icdar2015/test_img/img_221.jpg\n",
            "Test image 308/500: /content/icdar2015/test_img/img_321.jpg\n",
            "Test image 309/500: /content/icdar2015/test_img/img_443.jpg\n",
            "Test image 310/500: /content/icdar2015/test_img/img_387.jpg\n",
            "Test image 311/500: /content/icdar2015/test_img/img_203.jpg\n",
            "Test image 312/500: /content/icdar2015/test_img/img_297.jpg\n",
            "Test image 313/500: /content/icdar2015/test_img/img_231.jpg\n",
            "Test image 314/500: /content/icdar2015/test_img/img_224.jpg\n",
            "Test image 315/500: /content/icdar2015/test_img/img_185.jpg\n",
            "Test image 316/500: /content/icdar2015/test_img/img_45.jpg\n",
            "Test image 317/500: /content/icdar2015/test_img/img_377.jpg\n",
            "Test image 318/500: /content/icdar2015/test_img/img_57.jpg\n",
            "Test image 319/500: /content/icdar2015/test_img/img_423.jpg\n",
            "Test image 320/500: /content/icdar2015/test_img/img_60.jpg\n",
            "Test image 321/500: /content/icdar2015/test_img/img_226.jpg\n",
            "Test image 322/500: /content/icdar2015/test_img/img_418.jpg\n",
            "Test image 323/500: /content/icdar2015/test_img/img_108.jpg\n",
            "Test image 324/500: /content/icdar2015/test_img/img_51.jpg\n",
            "Test image 325/500: /content/icdar2015/test_img/img_319.jpg\n",
            "Test image 326/500: /content/icdar2015/test_img/img_271.jpg\n",
            "Test image 327/500: /content/icdar2015/test_img/img_145.jpg\n",
            "Test image 328/500: /content/icdar2015/test_img/img_77.jpg\n",
            "Test image 329/500: /content/icdar2015/test_img/img_343.jpg\n",
            "Test image 330/500: /content/icdar2015/test_img/img_47.jpg\n",
            "Test image 331/500: /content/icdar2015/test_img/img_105.jpg\n",
            "Test image 332/500: /content/icdar2015/test_img/img_89.jpg\n",
            "Test image 333/500: /content/icdar2015/test_img/img_457.jpg\n",
            "Test image 334/500: /content/icdar2015/test_img/img_349.jpg\n",
            "Test image 335/500: /content/icdar2015/test_img/img_255.jpg\n",
            "Test image 336/500: /content/icdar2015/test_img/img_218.jpg\n",
            "Test image 337/500: /content/icdar2015/test_img/img_398.jpg\n",
            "Test image 338/500: /content/icdar2015/test_img/img_103.jpg\n",
            "Test image 339/500: /content/icdar2015/test_img/img_280.jpg\n",
            "Test image 340/500: /content/icdar2015/test_img/img_208.jpg\n",
            "Test image 341/500: /content/icdar2015/test_img/img_101.jpg\n",
            "Test image 342/500: /content/icdar2015/test_img/img_355.jpg\n",
            "Test image 343/500: /content/icdar2015/test_img/img_370.jpg\n",
            "Test image 344/500: /content/icdar2015/test_img/img_219.jpg\n",
            "Test image 345/500: /content/icdar2015/test_img/img_401.jpg\n",
            "Test image 346/500: /content/icdar2015/test_img/img_279.jpg\n",
            "Test image 347/500: /content/icdar2015/test_img/img_292.jpg\n",
            "Test image 348/500: /content/icdar2015/test_img/img_141.jpg\n",
            "Test image 349/500: /content/icdar2015/test_img/img_172.jpg\n",
            "Test image 350/500: /content/icdar2015/test_img/img_447.jpg\n",
            "Test image 351/500: /content/icdar2015/test_img/img_225.jpg\n",
            "Test image 352/500: /content/icdar2015/test_img/img_362.jpg\n",
            "Test image 353/500: /content/icdar2015/test_img/img_52.jpg\n",
            "Test image 354/500: /content/icdar2015/test_img/img_357.jpg\n",
            "Test image 355/500: /content/icdar2015/test_img/img_29.jpg\n",
            "Test image 356/500: /content/icdar2015/test_img/img_488.jpg\n",
            "Test image 357/500: /content/icdar2015/test_img/img_74.jpg\n",
            "Test image 358/500: /content/icdar2015/test_img/img_198.jpg\n",
            "Test image 359/500: /content/icdar2015/test_img/img_474.jpg\n",
            "Test image 360/500: /content/icdar2015/test_img/img_371.jpg\n",
            "Test image 361/500: /content/icdar2015/test_img/img_470.jpg\n",
            "Test image 362/500: /content/icdar2015/test_img/img_456.jpg\n",
            "Test image 363/500: /content/icdar2015/test_img/img_97.jpg\n",
            "Test image 364/500: /content/icdar2015/test_img/img_13.jpg\n",
            "Test image 365/500: /content/icdar2015/test_img/img_98.jpg\n",
            "Test image 366/500: /content/icdar2015/test_img/img_461.jpg\n",
            "Test image 367/500: /content/icdar2015/test_img/img_35.jpg\n",
            "Test image 368/500: /content/icdar2015/test_img/img_407.jpg\n",
            "Test image 369/500: /content/icdar2015/test_img/img_16.jpg\n",
            "Test image 370/500: /content/icdar2015/test_img/img_55.jpg\n",
            "Test image 371/500: /content/icdar2015/test_img/img_484.jpg\n",
            "Test image 372/500: /content/icdar2015/test_img/img_236.jpg\n",
            "Test image 373/500: /content/icdar2015/test_img/img_464.jpg\n",
            "Test image 374/500: /content/icdar2015/test_img/img_43.jpg\n",
            "Test image 375/500: /content/icdar2015/test_img/img_458.jpg\n",
            "Test image 376/500: /content/icdar2015/test_img/img_405.jpg\n",
            "Test image 377/500: /content/icdar2015/test_img/img_246.jpg\n",
            "Test image 378/500: /content/icdar2015/test_img/img_34.jpg\n",
            "Test image 379/500: /content/icdar2015/test_img/img_9.jpg\n",
            "Test image 380/500: /content/icdar2015/test_img/img_125.jpg\n",
            "Test image 381/500: /content/icdar2015/test_img/img_469.jpg\n",
            "Test image 382/500: /content/icdar2015/test_img/img_322.jpg\n",
            "Test image 383/500: /content/icdar2015/test_img/img_217.jpg\n",
            "Test image 384/500: /content/icdar2015/test_img/img_258.jpg\n",
            "Test image 385/500: /content/icdar2015/test_img/img_361.jpg\n",
            "Test image 386/500: /content/icdar2015/test_img/img_223.jpg\n",
            "Test image 387/500: /content/icdar2015/test_img/img_414.jpg\n",
            "Test image 388/500: /content/icdar2015/test_img/img_295.jpg\n",
            "Test image 389/500: /content/icdar2015/test_img/img_114.jpg\n",
            "Test image 390/500: /content/icdar2015/test_img/img_360.jpg\n",
            "Test image 391/500: /content/icdar2015/test_img/img_111.jpg\n",
            "Test image 392/500: /content/icdar2015/test_img/img_204.jpg\n",
            "Test image 393/500: /content/icdar2015/test_img/img_248.jpg\n",
            "Test image 394/500: /content/icdar2015/test_img/img_468.jpg\n",
            "Test image 395/500: /content/icdar2015/test_img/img_46.jpg\n",
            "Test image 396/500: /content/icdar2015/test_img/img_121.jpg\n",
            "Test image 397/500: /content/icdar2015/test_img/img_449.jpg\n",
            "Test image 398/500: /content/icdar2015/test_img/img_80.jpg\n",
            "Test image 399/500: /content/icdar2015/test_img/img_188.jpg\n",
            "Test image 400/500: /content/icdar2015/test_img/img_256.jpg\n",
            "Test image 401/500: /content/icdar2015/test_img/img_244.jpg\n",
            "Test image 402/500: /content/icdar2015/test_img/img_240.jpg\n",
            "Test image 403/500: /content/icdar2015/test_img/img_104.jpg\n",
            "Test image 404/500: /content/icdar2015/test_img/img_134.jpg\n",
            "Test image 405/500: /content/icdar2015/test_img/img_171.jpg\n",
            "Test image 406/500: /content/icdar2015/test_img/img_327.jpg\n",
            "Test image 407/500: /content/icdar2015/test_img/img_315.jpg\n",
            "Test image 408/500: /content/icdar2015/test_img/img_460.jpg\n",
            "Test image 409/500: /content/icdar2015/test_img/img_304.jpg\n",
            "Test image 410/500: /content/icdar2015/test_img/img_180.jpg\n",
            "Test image 411/500: /content/icdar2015/test_img/img_269.jpg\n",
            "Test image 412/500: /content/icdar2015/test_img/img_431.jpg\n",
            "Test image 413/500: /content/icdar2015/test_img/img_352.jpg\n",
            "Test image 414/500: /content/icdar2015/test_img/img_157.jpg\n",
            "Test image 415/500: /content/icdar2015/test_img/img_318.jpg\n",
            "Test image 416/500: /content/icdar2015/test_img/img_213.jpg\n",
            "Test image 417/500: /content/icdar2015/test_img/img_153.jpg\n",
            "Test image 418/500: /content/icdar2015/test_img/img_148.jpg\n",
            "Test image 419/500: /content/icdar2015/test_img/img_12.jpg\n",
            "Test image 420/500: /content/icdar2015/test_img/img_483.jpg\n",
            "Test image 421/500: /content/icdar2015/test_img/img_381.jpg\n",
            "Test image 422/500: /content/icdar2015/test_img/img_293.jpg\n",
            "Test image 423/500: /content/icdar2015/test_img/img_408.jpg\n",
            "Test image 424/500: /content/icdar2015/test_img/img_92.jpg\n",
            "Test image 425/500: /content/icdar2015/test_img/img_173.jpg\n",
            "Test image 426/500: /content/icdar2015/test_img/img_110.jpg\n",
            "Test image 427/500: /content/icdar2015/test_img/img_492.jpg\n",
            "Test image 428/500: /content/icdar2015/test_img/img_311.jpg\n",
            "Test image 429/500: /content/icdar2015/test_img/img_252.jpg\n",
            "Test image 430/500: /content/icdar2015/test_img/img_388.jpg\n",
            "Test image 431/500: /content/icdar2015/test_img/img_64.jpg\n",
            "Test image 432/500: /content/icdar2015/test_img/img_130.jpg\n",
            "Test image 433/500: /content/icdar2015/test_img/img_209.jpg\n",
            "Test image 434/500: /content/icdar2015/test_img/img_479.jpg\n",
            "Test image 435/500: /content/icdar2015/test_img/img_238.jpg\n",
            "Test image 436/500: /content/icdar2015/test_img/img_494.jpg\n",
            "Test image 437/500: /content/icdar2015/test_img/img_254.jpg\n",
            "Test image 438/500: /content/icdar2015/test_img/img_7.jpg\n",
            "Test image 439/500: /content/icdar2015/test_img/img_354.jpg\n",
            "Test image 440/500: /content/icdar2015/test_img/img_216.jpg\n",
            "Test image 441/500: /content/icdar2015/test_img/img_96.jpg\n",
            "Test image 442/500: /content/icdar2015/test_img/img_275.jpg\n",
            "Test image 443/500: /content/icdar2015/test_img/img_215.jpg\n",
            "Test image 444/500: /content/icdar2015/test_img/img_262.jpg\n",
            "Test image 445/500: /content/icdar2015/test_img/img_396.jpg\n",
            "Test image 446/500: /content/icdar2015/test_img/img_339.jpg\n",
            "Test image 447/500: /content/icdar2015/test_img/img_344.jpg\n",
            "Test image 448/500: /content/icdar2015/test_img/img_207.jpg\n",
            "Test image 449/500: /content/icdar2015/test_img/img_368.jpg\n",
            "Test image 450/500: /content/icdar2015/test_img/img_397.jpg\n",
            "Test image 451/500: /content/icdar2015/test_img/img_91.jpg\n",
            "Test image 452/500: /content/icdar2015/test_img/img_302.jpg\n",
            "Test image 453/500: /content/icdar2015/test_img/img_278.jpg\n",
            "Test image 454/500: /content/icdar2015/test_img/img_330.jpg\n",
            "Test image 455/500: /content/icdar2015/test_img/img_445.jpg\n",
            "Test image 456/500: /content/icdar2015/test_img/img_257.jpg\n",
            "Test image 457/500: /content/icdar2015/test_img/img_419.jpg\n",
            "Test image 458/500: /content/icdar2015/test_img/img_298.jpg\n",
            "Test image 459/500: /content/icdar2015/test_img/img_481.jpg\n",
            "Test image 460/500: /content/icdar2015/test_img/img_335.jpg\n",
            "Test image 461/500: /content/icdar2015/test_img/img_390.jpg\n",
            "Test image 462/500: /content/icdar2015/test_img/img_164.jpg\n",
            "Test image 463/500: /content/icdar2015/test_img/img_205.jpg\n",
            "Test image 464/500: /content/icdar2015/test_img/img_235.jpg\n",
            "Test image 465/500: /content/icdar2015/test_img/img_187.jpg\n",
            "Test image 466/500: /content/icdar2015/test_img/img_59.jpg\n",
            "Test image 467/500: /content/icdar2015/test_img/img_471.jpg\n",
            "Test image 468/500: /content/icdar2015/test_img/img_107.jpg\n",
            "Test image 469/500: /content/icdar2015/test_img/img_485.jpg\n",
            "Test image 470/500: /content/icdar2015/test_img/img_394.jpg\n",
            "Test image 471/500: /content/icdar2015/test_img/img_374.jpg\n",
            "Test image 472/500: /content/icdar2015/test_img/img_266.jpg\n",
            "Test image 473/500: /content/icdar2015/test_img/img_144.jpg\n",
            "Test image 474/500: /content/icdar2015/test_img/img_480.jpg\n",
            "Test image 475/500: /content/icdar2015/test_img/img_76.jpg\n",
            "Test image 476/500: /content/icdar2015/test_img/img_230.jpg\n",
            "Test image 477/500: /content/icdar2015/test_img/img_193.jpg\n",
            "Test image 478/500: /content/icdar2015/test_img/img_62.jpg\n",
            "Test image 479/500: /content/icdar2015/test_img/img_119.jpg\n",
            "Test image 480/500: /content/icdar2015/test_img/img_314.jpg\n",
            "Test image 481/500: /content/icdar2015/test_img/img_10.jpg\n",
            "Test image 482/500: /content/icdar2015/test_img/img_259.jpg\n",
            "Test image 483/500: /content/icdar2015/test_img/img_192.jpg\n",
            "Test image 484/500: /content/icdar2015/test_img/img_308.jpg\n",
            "Test image 485/500: /content/icdar2015/test_img/img_272.jpg\n",
            "Test image 486/500: /content/icdar2015/test_img/img_373.jpg\n",
            "Test image 487/500: /content/icdar2015/test_img/img_291.jpg\n",
            "Test image 488/500: /content/icdar2015/test_img/img_94.jpg\n",
            "Test image 489/500: /content/icdar2015/test_img/img_42.jpg\n",
            "Test image 490/500: /content/icdar2015/test_img/img_459.jpg\n",
            "Test image 491/500: /content/icdar2015/test_img/img_214.jpg\n",
            "Test image 492/500: /content/icdar2015/test_img/img_491.jpg\n",
            "Test image 493/500: /content/icdar2015/test_img/img_359.jpg\n",
            "Test image 494/500: /content/icdar2015/test_img/img_392.jpg\n",
            "Test image 495/500: /content/icdar2015/test_img/img_120.jpg\n",
            "Test image 496/500: /content/icdar2015/test_img/img_466.jpg\n",
            "Test image 497/500: /content/icdar2015/test_img/img_166.jpg\n",
            "Test image 498/500: /content/icdar2015/test_img/img_274.jpg\n",
            "Test image 499/500: /content/icdar2015/test_img/img_66.jpg\n",
            "Test image 500/500: /content/icdar2015/test_img/img_123.jpg\n",
            "Calculated!{\"precision\": 0, \"recall\": 0.0, \"hmean\": 0, \"AP\": 0}elapsed time : 264.66047191619873s\n"
          ],
          "name": "stdout"
        }
      ]
    },
    {
      "cell_type": "code",
      "metadata": {
        "id": "ICWBAMcXmZgy"
      },
      "source": [
        ""
      ],
      "execution_count": null,
      "outputs": []
    }
  ]
}